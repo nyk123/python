{
 "cells": [
  {
   "cell_type": "markdown",
   "metadata": {},
   "source": [
    "# 循环\n",
    "- 循环是一种控制语句块重复执行的结构\n",
    "- while  适用于广度遍历\n",
    "- for    开发中经常使用"
   ]
  },
  {
   "cell_type": "markdown",
   "metadata": {},
   "source": [
    "## while 循环\n",
    "- 当一个条件保持真的时候while循环重复执行语句\n",
    "- while 循环一定要有结束条件，否则很容易进入死循环\n",
    "- while 循环的语法是：\n",
    "\n",
    "    while loop-contunuation-conndition:\n",
    "\n",
    "        Statement"
   ]
  },
  {
   "cell_type": "markdown",
   "metadata": {},
   "source": [
    "## 示例：\n",
    "sum = 0\n",
    "\n",
    "i = 1\n",
    "\n",
    "while i <10:\n",
    "\n",
    "    sum = sum + i\n",
    "    i = i + 1"
   ]
  },
  {
   "cell_type": "markdown",
   "metadata": {},
   "source": [
    "#模式1\n",
    "i = 0\n",
    "whlie i<100:\n",
    "    print(100)\n",
    "    i += 1\n",
    "    if xxx:\n",
    "        break"
   ]
  },
  {
   "cell_type": "markdown",
   "metadata": {},
   "source": [
    "## 错误示例：\n",
    "sum = 0\n",
    "\n",
    "i = 1\n",
    "\n",
    "while i <10:\n",
    "\n",
    "    sum = sum + i\n",
    "\n",
    "i = i + 1\n",
    "- 一旦进入死循环可按 Ctrl + c 停止"
   ]
  },
  {
   "cell_type": "code",
   "execution_count": 2,
   "metadata": {},
   "outputs": [
    {
     "name": "stdout",
     "output_type": "stream",
     "text": [
      "今天天气好晴朗\n",
      "今天天气好晴朗\n",
      "今天天气好晴朗\n",
      "今天天气好晴朗\n",
      "今天天气好晴朗\n",
      "今天天气好晴朗\n",
      "今天天气好晴朗\n",
      "今天天气好晴朗\n",
      "今天天气好晴朗\n",
      "今天天气好晴朗\n"
     ]
    }
   ],
   "source": [
    "i = 0\n",
    "while i < 10:\n",
    "    print('今天天气好晴朗')\n",
    "    i +=1"
   ]
  },
  {
   "cell_type": "markdown",
   "metadata": {},
   "source": [
    "## EP：\n",
    "![](../Photo/143.png)\n",
    "![](../Photo/144.png)"
   ]
  },
  {
   "cell_type": "markdown",
   "metadata": {},
   "source": [
    "# 验证码\n",
    "- 随机产生四个字母的验证码，如果正确，输出验证码正确。如果错误，产生新的验证码，用户重新输入。\n",
    "- 验证码只能输入三次，如果三次都错，返回“别爬了，我们小网站没什么好爬的”\n",
    "- 密码登录，如果三次错误，账号被锁定\n"
   ]
  },
  {
   "cell_type": "code",
   "execution_count": 2,
   "metadata": {},
   "outputs": [],
   "source": [
    "import random"
   ]
  },
  {
   "cell_type": "code",
   "execution_count": 3,
   "metadata": {
    "scrolled": true
   },
   "outputs": [
    {
     "name": "stdout",
     "output_type": "stream",
     "text": [
      "验证码为： 6550\n",
      ">>6550\n",
      "验证码输入正确\n"
     ]
    }
   ],
   "source": [
    "#生成四个数字验证码,如果输入错误就循环\n",
    "while 1:\n",
    "    num = random.randint(1000,9999)\n",
    "    print('验证码为：',num)\n",
    "    me = eval(input('请输入验证码：'))\n",
    "    if num == me:\n",
    "        print('验证码输入正确')\n",
    "        break\n",
    "    else:\n",
    "        print('验证码输入错误')"
   ]
  },
  {
   "cell_type": "code",
   "execution_count": null,
   "metadata": {},
   "outputs": [
    {
     "name": "stdout",
     "output_type": "stream",
     "text": [
      "验证码是： gnli\n"
     ]
    }
   ],
   "source": [
    "#生成四个字母的验证码（纯小写），ASCLL码\n",
    "while True:\n",
    "    n1 = chr(random.randint(97,122))\n",
    "    n2 = chr(random.randint(97,122))\n",
    "    n3 = chr(random.randint(97,122))\n",
    "    n4 = chr(random.randint(97,122))\n",
    "    N = n1+n2+n3+n4\n",
    "    print('验证码是：',N)\n",
    "    me = input('请输入验证码：')\n",
    "    if me == N:\n",
    "            print('验证码输入正确')\n",
    "            break\n",
    "    else:\n",
    "        print('验证码输入错误')\n"
   ]
  },
  {
   "cell_type": "code",
   "execution_count": null,
   "metadata": {},
   "outputs": [],
   "source": [
    "#生成四个字母的验证码（大小写，区分），ASCLL码\n",
    "while True:\n",
    "    n1 = chr(random.randint(65,90))\n",
    "    n2 = chr(random.randint(97,122))\n",
    "    n3 = chr(random.randint(65,90))\n",
    "    n4 = chr(random.randint(97,122))\n",
    "    N = n1+n2+n3+n4\n",
    "    print('验证码是：',N)\n",
    "    me = input('请输入验证码：')\n",
    "    if me == N:\n",
    "            print('验证码输入正确')\n",
    "            break\n",
    "    else:\n",
    "        print('验证码输入错误')"
   ]
  },
  {
   "cell_type": "code",
   "execution_count": null,
   "metadata": {},
   "outputs": [
    {
     "name": "stdout",
     "output_type": "stream",
     "text": [
      "验证码是： myZA\n"
     ]
    }
   ],
   "source": [
    "#生成四个字母的验证码（大小写,不区分），ASCLL码,shuffle(打乱)\n",
    "while True:\n",
    "    n1 = chr(random.randint(65,90))\n",
    "    n2 = chr(random.randint(97,122))\n",
    "    n3 = chr(random.randint(65,90))\n",
    "    n4 = chr(random.randint(97,122))\n",
    "    shuffle_n =[n1,n2,n3,n4]#列表\n",
    "    random.shuffle(shuffle_n)\n",
    "    N = \"\".join(shuffle_n)\n",
    "    print('验证码是：',N)\n",
    "    me = input('请输入验证码：')\n",
    "    if me.lower() == N.lower():#大小写\n",
    "        print('验证码输入正确')\n",
    "        break\n",
    "    else:\n",
    "        print('验证码输入错误')"
   ]
  },
  {
   "cell_type": "code",
   "execution_count": 3,
   "metadata": {},
   "outputs": [
    {
     "name": "stdout",
     "output_type": "stream",
     "text": [
      "验证码是： ylqi\n",
      "输入验证码ylqi\n",
      "验证码正确\n"
     ]
    }
   ],
   "source": [
    "#纯随机,超纲\n",
    "while True:\n",
    "    choose = random.randint(0,1)\n",
    "    list_ = [[65,90],[97,122]]\n",
    "    range_ = list_[choose]\n",
    "    N = \"\"\n",
    "    for i in range(4):\n",
    "        N += chr(random.randint(range_[0],range_[1]))\n",
    "    print('验证码是：',N)\n",
    "    me = input('输入验证码')\n",
    "    if me.lower() == N.lower():\n",
    "        print('验证码正确')\n",
    "        break\n",
    "    else:\n",
    "        print('验证码错误')"
   ]
  },
  {
   "cell_type": "markdown",
   "metadata": {},
   "source": [
    "房间内有100个人，每人有100块，每分钟随机给另一个人一块，最后这个房间的财富分布会怎么样"
   ]
  },
  {
   "cell_type": "code",
   "execution_count": 1,
   "metadata": {},
   "outputs": [
    {
     "name": "stdout",
     "output_type": "stream",
     "text": [
      "[127, 97, 57, 102, 109, 59, 64, 27, 93, 49, 23, 125, 106, 64, 113, 110, 94, 150, 100, 109, 80, 93, 101, 81, 126, 83, 109, 134, 99, 81, 113, 109, 176, 78, 75, 188, 39, 78, 114, 119, 39, 122, 161, 48, 180, 153, 30, 0, 92, 156, 62, 80, 100, 47, 81, 79, 62, 92, 108, 81, 77, 120, 53, 98, 84, 69, 73, 75, 101, 116, 139, 157, 88, 141, 97, 120, 154, 111, 90, 143, 106, 133, 80, 120, 138, 57, 88, 140, 150, 147, 101, 97, 186, 132, 82, 164, 81, 113, 48, 104]\n"
     ]
    }
   ],
   "source": [
    "import random\n",
    "money=[100]*100\n",
    "i=0\n",
    "while 0 not in money:\n",
    "    others=random.randint(0,99)\n",
    "    money[i]-=1\n",
    "    money[others]+=1\n",
    "    i+=1\n",
    "    i=i%100\n",
    "print(money)"
   ]
  },
  {
   "cell_type": "markdown",
   "metadata": {},
   "source": [
    "## 尝试死循环"
   ]
  },
  {
   "cell_type": "markdown",
   "metadata": {},
   "source": [
    "## 实例研究：猜数字\n",
    "- 你将要编写一个能够随机生成一个0到10之间的且包括两者的数字程序，这个程序\n",
    "- 提示用户连续地输入数字直到正确，且提示用户输入的数字是过高还是过低"
   ]
  },
  {
   "cell_type": "code",
   "execution_count": null,
   "metadata": {},
   "outputs": [],
   "source": [
    "import random\n",
    "while 1:\n",
    "    a = random.randint(0,10)\n",
    "    b = random.randint(0,10)\n",
    "    num = eval(input('sum'))\n",
    "    if a+b==num:\n",
    "        print('正确')\n",
    "        break\n",
    "    if a+b<num:\n",
    "        print('偏大')\n",
    "    if a+b>num:\n",
    "        print('偏小')"
   ]
  },
  {
   "cell_type": "markdown",
   "metadata": {},
   "source": [
    "## 使用哨兵值来控制循环\n",
    "- 哨兵值来表明输入的结束\n",
    "- ![](../Photo/54.png)"
   ]
  },
  {
   "cell_type": "markdown",
   "metadata": {},
   "source": [
    "## 警告\n",
    "![](../Photo/55.png)"
   ]
  },
  {
   "cell_type": "markdown",
   "metadata": {},
   "source": [
    "## for 循环\n",
    "- Python的for 循环通过一个序列中的每个值来进行迭代\n",
    "- range(a,b,k)， a，b，k 必须为整数\n",
    "- a: start\n",
    "- b: end\n",
    "- k: step\n",
    "- 注意for 是循环一切可迭代对象，而不是只能使用range"
   ]
  },
  {
   "cell_type": "code",
   "execution_count": 1,
   "metadata": {},
   "outputs": [
    {
     "name": "stdout",
     "output_type": "stream",
     "text": [
      "0\n",
      "1\n",
      "2\n",
      "3\n",
      "4\n",
      "5\n",
      "6\n",
      "7\n",
      "8\n",
      "9\n"
     ]
    }
   ],
   "source": [
    "for i in range(10):#range控制执行次数\n",
    "    print(i)"
   ]
  },
  {
   "cell_type": "code",
   "execution_count": 3,
   "metadata": {},
   "outputs": [
    {
     "name": "stdout",
     "output_type": "stream",
     "text": [
      "0\n",
      "2\n",
      "4\n",
      "6\n",
      "8\n"
     ]
    }
   ],
   "source": [
    "for i in range(0,10,2):#第三个参数2为步长\n",
    "    print(i)"
   ]
  },
  {
   "cell_type": "code",
   "execution_count": 5,
   "metadata": {},
   "outputs": [
    {
     "name": "stdout",
     "output_type": "stream",
     "text": [
      "10\n",
      "9\n",
      "8\n",
      "7\n",
      "6\n",
      "5\n",
      "4\n",
      "3\n",
      "2\n",
      "1\n"
     ]
    }
   ],
   "source": [
    "for i in range(10,0,-1):\n",
    "    print(i)"
   ]
  },
  {
   "cell_type": "markdown",
   "metadata": {},
   "source": [
    "# 在Python里面一切皆对象"
   ]
  },
  {
   "cell_type": "markdown",
   "metadata": {},
   "source": [
    "## EP:\n",
    "- ![](../Photo/145.png)"
   ]
  },
  {
   "cell_type": "code",
   "execution_count": 2,
   "metadata": {},
   "outputs": [
    {
     "name": "stdout",
     "output_type": "stream",
     "text": [
      "10011\n"
     ]
    }
   ],
   "source": [
    "i = 1\n",
    "sum_ = 0\n",
    "while sum_<10000:\n",
    "    sum_ = sum_ + i\n",
    "    i += 1\n",
    "print(sum_)"
   ]
  },
  {
   "cell_type": "code",
   "execution_count": 9,
   "metadata": {},
   "outputs": [
    {
     "name": "stdout",
     "output_type": "stream",
     "text": [
      "10011\n",
      "141\n"
     ]
    }
   ],
   "source": [
    "sum_ = 0\n",
    "for i in range(10000):\n",
    "    sum_ += i\n",
    "    if sum_>10000:\n",
    "        break\n",
    "print(sum_)\n",
    "print(i)"
   ]
  },
  {
   "cell_type": "markdown",
   "metadata": {},
   "source": [
    "## 嵌套循环\n",
    "- 一个循环可以嵌套另一个循环\n",
    "- 每次循环外层时，内层循环都会被刷新重新完成循环\n",
    "- 也就是说，大循环执行一次，小循环会全部执行一次\n",
    "- 注意：\n",
    "> - 多层循环非常耗时\n",
    "  - 最多使用3层循环"
   ]
  },
  {
   "cell_type": "markdown",
   "metadata": {},
   "source": [
    "## EP：\n",
    "- 使用多层循环完成9X9乘法表\n",
    "- 显示50以内所有的素数"
   ]
  },
  {
   "cell_type": "code",
   "execution_count": 13,
   "metadata": {},
   "outputs": [
    {
     "name": "stdout",
     "output_type": "stream",
     "text": [
      "1*1=1 \n",
      "1*2=2 2*2=4 \n",
      "1*3=3 2*3=6 3*3=9 \n",
      "1*4=4 2*4=8 3*4=12 4*4=16 \n",
      "1*5=5 2*5=10 3*5=15 4*5=20 5*5=25 \n",
      "1*6=6 2*6=12 3*6=18 4*6=24 5*6=30 6*6=36 \n",
      "1*7=7 2*7=14 3*7=21 4*7=28 5*7=35 6*7=42 7*7=49 \n",
      "1*8=8 2*8=16 3*8=24 4*8=32 5*8=40 6*8=48 7*8=56 8*8=64 \n",
      "1*9=9 2*9=18 3*9=27 4*9=36 5*9=45 6*9=54 7*9=63 8*9=72 9*9=81 \n"
     ]
    }
   ],
   "source": [
    "for i in range(1,10):\n",
    "    for j in range(1,i+1):\n",
    "        sum = i*j\n",
    "        print('%d*%d=%d'%(j,i,sum),end=' ')\n",
    "    print('')"
   ]
  },
  {
   "cell_type": "code",
   "execution_count": 4,
   "metadata": {},
   "outputs": [
    {
     "name": "stdout",
     "output_type": "stream",
     "text": [
      "[2, 3, 5, 7, 11, 13, 17, 19, 23, 29, 31, 37, 41, 43, 47]\n"
     ]
    }
   ],
   "source": [
    "list=[]\n",
    "i=2\n",
    "for i in range(2,50):\n",
    "    j=2\n",
    "    for j in range(2,i):\n",
    "        if(i%j==0):\n",
    "            break\n",
    "    else:\n",
    "        list.append(i)#列表中附加i\n",
    "print(list)"
   ]
  },
  {
   "cell_type": "markdown",
   "metadata": {},
   "source": [
    "## 关键字 break 和 continue\n",
    "- break 跳出循环，终止循环\n",
    "- continue 跳出此次循环，继续执行"
   ]
  },
  {
   "cell_type": "code",
   "execution_count": 7,
   "metadata": {},
   "outputs": [
    {
     "name": "stdout",
     "output_type": "stream",
     "text": [
      "5\n"
     ]
    }
   ],
   "source": [
    "for i in range(10):\n",
    "    if i==5:\n",
    "        break\n",
    "print(i)"
   ]
  },
  {
   "cell_type": "code",
   "execution_count": 6,
   "metadata": {},
   "outputs": [
    {
     "name": "stdout",
     "output_type": "stream",
     "text": [
      "9\n"
     ]
    }
   ],
   "source": [
    "for i in range(10):\n",
    "    if i==5:\n",
    "        continue\n",
    "print(i)"
   ]
  },
  {
   "cell_type": "markdown",
   "metadata": {},
   "source": [
    "## 注意\n",
    "![](../Photo/56.png)\n",
    "![](../Photo/57.png)"
   ]
  },
  {
   "cell_type": "markdown",
   "metadata": {},
   "source": [
    "# Homework\n",
    "- 1 \n",
    "![](../Photo/58.png)"
   ]
  },
  {
   "cell_type": "code",
   "execution_count": 3,
   "metadata": {},
   "outputs": [
    {
     "name": "stdout",
     "output_type": "stream",
     "text": [
      "输入一个整数:3\n",
      "输入一个整数:4\n",
      "输入一个整数:-3\n",
      "输入一个整数:0\n",
      "正数个数是： 2 \n",
      "负数个数是: 1 \n",
      "总和 : 4 \n",
      "均值: 1.3333333333333333\n"
     ]
    }
   ],
   "source": [
    "sum_=0\n",
    "count=0\n",
    "zhengshu=0\n",
    "fushu=0\n",
    "while 1:\n",
    "    num=eval(input('输入一个整数:'))\n",
    "    if num==0:\n",
    "        break;\n",
    "    else:\n",
    "        sum_+=num\n",
    "        count+=1\n",
    "        if num>0:\n",
    "            zhengshu+=1\n",
    "        else:\n",
    "            fushu+=1\n",
    "print('正数个数是：',zhengshu,'\\n负数个数是:',fushu,'\\n总和 :',sum_,'\\n均值:',float(sum_/count))#\\n换行"
   ]
  },
  {
   "cell_type": "markdown",
   "metadata": {},
   "source": [
    "- 2\n",
    "![](../Photo/59.png)"
   ]
  },
  {
   "cell_type": "code",
   "execution_count": 6,
   "metadata": {},
   "outputs": [
    {
     "name": "stdout",
     "output_type": "stream",
     "text": [
      "第 1 年学费为:  10500.0\n",
      "第 2 年学费为:  11025.0\n",
      "第 3 年学费为:  11576.25\n",
      "第 4 年学费为:  12155.06\n",
      "第 5 年学费为:  12762.82\n",
      "第 6 年学费为:  13400.96\n",
      "第 7 年学费为:  14071.0\n",
      "第 8 年学费为:  14774.55\n",
      "第 9 年学费为:  15513.28\n",
      "第 10 年学费为:  16288.95\n",
      "十年后大学四年的总学费为: 19799.32\n"
     ]
    }
   ],
   "source": [
    "xuefei=10000\n",
    "sum_=0\n",
    "for i in range(10):\n",
    "    xuefei=xuefei*(1+0.05) \n",
    "    print(\"第\",i+1,'年学费为: ',round(xuefei,2))#round(变量，保留几位小数)\n",
    "for j in range(4):\n",
    "    xuefei=xuefei*(1+0.05)\n",
    "    sum_1=sum_+xuefei\n",
    "print('十年后大学四年的总学费为:',round(sum_1,2))"
   ]
  },
  {
   "cell_type": "markdown",
   "metadata": {},
   "source": [
    "- 4\n",
    "![](../Photo/60.png)"
   ]
  },
  {
   "cell_type": "code",
   "execution_count": 10,
   "metadata": {},
   "outputs": [
    {
     "name": "stdout",
     "output_type": "stream",
     "text": [
      "120 150 180 210 240 270 300 330 360 390 \n",
      "\n",
      "420 450 480 510 540 570 600 630 660 690 \n",
      "\n",
      "720 750 780 810 840 870 900 930 960 990 \n",
      "\n"
     ]
    }
   ],
   "source": [
    "count=0\n",
    "for i in range(100,1001):\n",
    "    if (i%5==0 and i%6==0) :\n",
    "        print(i,end=\" \")#end=\" \"表示以空格结尾\n",
    "        count+=1\n",
    "        if (count%10==0):\n",
    "            print(\"\\n\")#换行"
   ]
  },
  {
   "cell_type": "markdown",
   "metadata": {},
   "source": [
    "- 5\n",
    "![](../Photo/61.png)"
   ]
  },
  {
   "cell_type": "code",
   "execution_count": 14,
   "metadata": {},
   "outputs": [
    {
     "name": "stdout",
     "output_type": "stream",
     "text": [
      "n²>12000的最小n是： 110\n"
     ]
    }
   ],
   "source": [
    "n=0\n",
    "while 1:\n",
    "    if n*n<12000:\n",
    "        n=n+1\n",
    "    else:\n",
    "        break\n",
    "print('n²>12000的最小n是：',n)"
   ]
  },
  {
   "cell_type": "code",
   "execution_count": 19,
   "metadata": {},
   "outputs": [
    {
     "name": "stdout",
     "output_type": "stream",
     "text": [
      "n³<12000的最大n是： 22\n"
     ]
    }
   ],
   "source": [
    "n=0 \n",
    "while 1:\n",
    "    if n*n*n<12000:\n",
    "        n=n+1\n",
    "    else:\n",
    "        break\n",
    "print('n³<12000的最大n是：',n-1)"
   ]
  },
  {
   "cell_type": "markdown",
   "metadata": {},
   "source": [
    "- 6\n",
    "![](../Photo/62.png)"
   ]
  },
  {
   "cell_type": "markdown",
   "metadata": {},
   "source": [
    "- 7\n",
    "![](../Photo/63.png)"
   ]
  },
  {
   "cell_type": "code",
   "execution_count": 21,
   "metadata": {},
   "outputs": [
    {
     "name": "stdout",
     "output_type": "stream",
     "text": [
      "11.397003949278519\n"
     ]
    }
   ],
   "source": [
    "#从右向左\n",
    "sum_=0\n",
    "for i in range(50000,0,-1):\n",
    "    sum_+=1/i\n",
    "print(sum_)"
   ]
  },
  {
   "cell_type": "code",
   "execution_count": 22,
   "metadata": {},
   "outputs": [
    {
     "name": "stdout",
     "output_type": "stream",
     "text": [
      "11.396983949278505\n"
     ]
    }
   ],
   "source": [
    "#从左向右\n",
    "sum_=0\n",
    "for i in range(1,50000):\n",
    "    sum_+=1/i\n",
    "print(sum_)"
   ]
  },
  {
   "cell_type": "markdown",
   "metadata": {},
   "source": [
    "- 8\n",
    "![](../Photo/64.png)"
   ]
  },
  {
   "cell_type": "code",
   "execution_count": 3,
   "metadata": {},
   "outputs": [
    {
     "name": "stdout",
     "output_type": "stream",
     "text": [
      "45.124450303050196\n"
     ]
    }
   ],
   "source": [
    "sum = 0\n",
    "for i in range(3,100,2):\n",
    "    sum +=(i-2)/i\n",
    "print(sum)"
   ]
  },
  {
   "cell_type": "markdown",
   "metadata": {},
   "source": [
    "- 9\n",
    "![](../Photo/65.png)"
   ]
  },
  {
   "cell_type": "code",
   "execution_count": 25,
   "metadata": {},
   "outputs": [
    {
     "name": "stdout",
     "output_type": "stream",
     "text": [
      "3.1415826535897198\n"
     ]
    }
   ],
   "source": [
    "sum_=0\n",
    "k=1\n",
    "i=1\n",
    "while i<=100000:\n",
    "    temp=1*k/(2*i-1)\n",
    "    i+=1\n",
    "    sum_+=temp\n",
    "    k=-k\n",
    "pi=4*sum_\n",
    "print(pi)"
   ]
  },
  {
   "cell_type": "markdown",
   "metadata": {},
   "source": [
    "- 10 \n",
    "![](../Photo/66.png)"
   ]
  },
  {
   "cell_type": "code",
   "execution_count": null,
   "metadata": {},
   "outputs": [
    {
     "name": "stdout",
     "output_type": "stream",
     "text": [
      "6\n",
      "28\n",
      "496\n",
      "8128\n"
     ]
    }
   ],
   "source": [
    "for i in range(1,10000):\n",
    "    sum_=0\n",
    "    for a in range(1,i):\n",
    "        if i%a==0:\n",
    "            sum_+=a\n",
    "    if sum_==i:\n",
    "        print(i)"
   ]
  },
  {
   "cell_type": "markdown",
   "metadata": {},
   "source": [
    "- 11\n",
    "![](../Photo/67.png)"
   ]
  },
  {
   "cell_type": "code",
   "execution_count": 29,
   "metadata": {},
   "outputs": [
    {
     "name": "stdout",
     "output_type": "stream",
     "text": [
      "1 和 2      1 和 3      1 和 4      1 和 5      1 和 6      1 和 7      2 和 3      \n",
      "\n",
      "2 和 4      2 和 5      2 和 6      2 和 7      3 和 4      3 和 5      3 和 6      \n",
      "\n",
      "3 和 7      4 和 5      4 和 6      4 和 7      5 和 6      5 和 7      6 和 7      \n",
      "\n",
      "The total number of all combinations is  21\n"
     ]
    }
   ],
   "source": [
    "count=0\n",
    "for i in range(1,8):\n",
    "    for j in range(i+1,8):\n",
    "        print(i,'和',j,end='      ')\n",
    "        count+=1\n",
    "        if (count%7==0):\n",
    "            print(\"\\n\")\n",
    "print('The total number of all combinations is ',count)"
   ]
  },
  {
   "cell_type": "markdown",
   "metadata": {},
   "source": [
    "- 12\n",
    "![](../Photo/68.png)"
   ]
  }
 ],
 "metadata": {
  "kernelspec": {
   "display_name": "Python 3",
   "language": "python",
   "name": "python3"
  },
  "language_info": {
   "codemirror_mode": {
    "name": "ipython",
    "version": 3
   },
   "file_extension": ".py",
   "mimetype": "text/x-python",
   "name": "python",
   "nbconvert_exporter": "python",
   "pygments_lexer": "ipython3",
   "version": "3.7.3"
  }
 },
 "nbformat": 4,
 "nbformat_minor": 2
}
