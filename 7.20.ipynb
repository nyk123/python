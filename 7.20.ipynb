{
 "cells": [
  {
   "cell_type": "markdown",
   "metadata": {},
   "source": [
    "# 函数\n",
    "\n",
    "- 函数可以用来定义可重复代码，组织和简化\n",
    "- 一般来说一个函数在实际开发中为一个小功能\n",
    "- 一个类为一个大功能\n",
    "- 同样函数的长度不要超过一屏"
   ]
  },
  {
   "cell_type": "markdown",
   "metadata": {},
   "source": [
    "Python中的所有函数实际上都是有返回值（return None),\n",
    "如果你没有设置return，那么Python将不现实None。\n",
    "如果你设置return，那么将返回return这个值。"
   ]
  },
  {
   "cell_type": "markdown",
   "metadata": {},
   "source": [
    "## 定义一个函数\n",
    "\n",
    "def function_name(list of parameters):\n",
    "    \n",
    "    do something\n",
    "![](../Photo/69.png)\n",
    "- 以前使用的random 或者range 或者print.. 其实都是函数或者类"
   ]
  },
  {
   "cell_type": "markdown",
   "metadata": {},
   "source": [
    "def 标识符 定义一个函数"
   ]
  },
  {
   "cell_type": "code",
   "execution_count": 1,
   "metadata": {},
   "outputs": [],
   "source": [
    "def max_(num1,num2):\n",
    "    if num1 > num2:\n",
    "        return num1\n",
    "    else:\n",
    "        return num2"
   ]
  },
  {
   "cell_type": "code",
   "execution_count": 2,
   "metadata": {},
   "outputs": [
    {
     "data": {
      "text/plain": [
       "2"
      ]
     },
     "execution_count": 2,
     "metadata": {},
     "output_type": "execute_result"
    }
   ],
   "source": [
    "max_(1,2)#调用函数"
   ]
  },
  {
   "cell_type": "code",
   "execution_count": 4,
   "metadata": {},
   "outputs": [],
   "source": [
    "def max_1(num1,num2,num3):\n",
    "    if num1>num2:\n",
    "        return num1\n",
    "    if num2>num3:\n",
    "        return num2\n",
    "    else:\n",
    "        return num3"
   ]
  },
  {
   "cell_type": "code",
   "execution_count": 5,
   "metadata": {},
   "outputs": [
    {
     "data": {
      "text/plain": [
       "7"
      ]
     },
     "execution_count": 5,
     "metadata": {},
     "output_type": "execute_result"
    }
   ],
   "source": [
    "max_1(1,7,5)"
   ]
  },
  {
   "cell_type": "markdown",
   "metadata": {},
   "source": [
    "函数的参数如果有默认值的情况，当你调用该函数的时候：\n",
    "可以不给予参数值，那么就会走该参数的默认值，\n",
    "否则的话，就走你给予的参数值。\n",
    "\n",
    "\n",
    "注意！！！含有默认值的参数放在最后面"
   ]
  },
  {
   "cell_type": "markdown",
   "metadata": {},
   "source": [
    "## 调用一个函数\n",
    "- functionName()\n",
    "- \"()\" 就代表调用"
   ]
  },
  {
   "cell_type": "markdown",
   "metadata": {},
   "source": [
    "![](../Photo/70.png)"
   ]
  },
  {
   "cell_type": "markdown",
   "metadata": {},
   "source": [
    "## 带返回值和不带返回值的函数\n",
    "- return 返回的内容\n",
    "- return 返回多个值\n",
    "- 一般情况下，在多个函数协同完成一个功能的时候，那么将会有返回值"
   ]
  },
  {
   "cell_type": "markdown",
   "metadata": {},
   "source": [
    "![](../Photo/71.png)\n",
    "\n",
    "- 当然也可以自定义返回None"
   ]
  },
  {
   "cell_type": "markdown",
   "metadata": {},
   "source": [
    "## EP：\n",
    "![](../Photo/72.png)"
   ]
  },
  {
   "cell_type": "code",
   "execution_count": 4,
   "metadata": {},
   "outputs": [],
   "source": [
    "#奇偶数\n",
    "def jiou(num):\n",
    "    if num % 2 == 0:\n",
    "        print('偶数')\n",
    "    else:\n",
    "        print('奇数')"
   ]
  },
  {
   "cell_type": "code",
   "execution_count": 5,
   "metadata": {},
   "outputs": [
    {
     "name": "stdout",
     "output_type": "stream",
     "text": [
      "奇数\n"
     ]
    }
   ],
   "source": [
    "jiou(3)"
   ]
  },
  {
   "cell_type": "markdown",
   "metadata": {},
   "source": [
    "# KNN算法\n",
    "# 读取图片，进行对比分析\n",
    "import matplotlib.pyplot as plt \n",
    "\n",
    "res = plt.imread('D:/rabbit.jpg')\n",
    "print(res)"
   ]
  },
  {
   "cell_type": "markdown",
   "metadata": {},
   "source": [
    "## 类型和关键字参数\n",
    "- 普通参数\n",
    "- 多个参数\n",
    "- 默认值参数\n",
    "- 不定长参数"
   ]
  },
  {
   "cell_type": "markdown",
   "metadata": {},
   "source": [
    "## 普通参数"
   ]
  },
  {
   "cell_type": "markdown",
   "metadata": {},
   "source": [
    "## 多个参数"
   ]
  },
  {
   "cell_type": "markdown",
   "metadata": {},
   "source": [
    "## 默认值参数\n",
    "- 默认参数只能放在最后  *之后的必须强制命名传入参数,* 之后的变量必须带参数名"
   ]
  },
  {
   "cell_type": "markdown",
   "metadata": {},
   "source": [
    "# 强制命名\n",
    "- *之后的必须强制命名传入参数,* 之后的变量必须带参数名"
   ]
  },
  {
   "cell_type": "markdown",
   "metadata": {},
   "source": [
    "## 不定长参数\n",
    "- \\*args, 不定长，输入多少参数都可以，不写入参数也可以\n",
    "> - 可以输入多个参数\n",
    "  - 返回输出结果的类型是元组类型，元组可以迭代，输入多少个参数都可以迭代来取出\n",
    "  - args 名字是可以修改的，只是通常约定为args\n",
    "- \\**kwargs, 不定长第二种\n",
    "> - 可以输入多个参数，但需要带参数名称\n",
    "  - 返回的数据类型是字典\n",
    "  - 输入的一定要是表达式(键值对)\n",
    "- 一般大的项目传入参数时，使用config文件一次写入所有的参数"
   ]
  },
  {
   "cell_type": "code",
   "execution_count": 1,
   "metadata": {},
   "outputs": [
    {
     "name": "stdout",
     "output_type": "stream",
     "text": [
      "{'a': 1, 'b': 2}\n",
      "(1, 2, 3)\n"
     ]
    }
   ],
   "source": [
    "def TT(*args,**kwargs):\n",
    "    print(kwargs)\n",
    "    print(args)\n",
    "TT(1,2,3,a=1,b=2)"
   ]
  },
  {
   "cell_type": "markdown",
   "metadata": {},
   "source": [
    "### \\**kwargs, 不定长第二种\n",
    "- 第二种不定长参数传入方法，使用字典数据传入\n",
    "- 写入参数时，必须先写\\*args, 再写\\**kwargs。 这是固定写法"
   ]
  },
  {
   "cell_type": "markdown",
   "metadata": {},
   "source": [
    "## 变量的作用域\n",
    "- 局部变量 local\n",
    "- 全局变量 global\n",
    "- globals 函数返回一个全局变量的字典，包括所有导入的变量\n",
    "- locals() 函数会以字典类型返回当前位置的全部局部变量。"
   ]
  },
  {
   "cell_type": "code",
   "execution_count": 2,
   "metadata": {},
   "outputs": [
    {
     "name": "stdout",
     "output_type": "stream",
     "text": [
      "1100\n"
     ]
    }
   ],
   "source": [
    "a=1000\n",
    "b=10\n",
    "def Y():\n",
    "    global a,b\n",
    "    a += 100\n",
    "    print(a)\n",
    "Y()"
   ]
  },
  {
   "cell_type": "markdown",
   "metadata": {},
   "source": [
    "## 注意：\n",
    "- global ：在进行赋值操作的时候需要声明\n",
    "- 官方解释：This is because when you make an assignment to a variable in a scope, that variable becomes local to that scope and shadows any similarly named variable in the outer scope.\n",
    "- ![](../Photo/73.png)"
   ]
  },
  {
   "cell_type": "markdown",
   "metadata": {},
   "source": [
    "## EP：\n",
    "- 定义一个邮箱加密函数，使得输入邮箱后进行ASCII码加密\n",
    "- 定义一个判断其是否为闰年的函数\n",
    "- 函数的嵌套：定义两个函数A，B，B函数接受A函数的数值并判定是否为奇数或者偶数"
   ]
  },
  {
   "cell_type": "markdown",
   "metadata": {},
   "source": [
    "# Homework\n",
    "- 1\n",
    "![](../Photo/74.png)"
   ]
  },
  {
   "cell_type": "code",
   "execution_count": 29,
   "metadata": {},
   "outputs": [],
   "source": [
    "#五角数\n",
    "def getPentagonlNumber():\n",
    "    count = 0\n",
    "    for n in range(1,100):\n",
    "        b = 3*n-1\n",
    "        num = n*b/2\n",
    "        print(round(num,0),end=\" \")\n",
    "        count+=1\n",
    "        if count%10==0:\n",
    "            print(\"\\n\")"
   ]
  },
  {
   "cell_type": "code",
   "execution_count": 30,
   "metadata": {},
   "outputs": [
    {
     "name": "stdout",
     "output_type": "stream",
     "text": [
      "1.0 5.0 12.0 22.0 35.0 51.0 70.0 92.0 117.0 145.0 \n",
      "\n",
      "176.0 210.0 247.0 287.0 330.0 376.0 425.0 477.0 532.0 590.0 \n",
      "\n",
      "651.0 715.0 782.0 852.0 925.0 1001.0 1080.0 1162.0 1247.0 1335.0 \n",
      "\n",
      "1426.0 1520.0 1617.0 1717.0 1820.0 1926.0 2035.0 2147.0 2262.0 2380.0 \n",
      "\n",
      "2501.0 2625.0 2752.0 2882.0 3015.0 3151.0 3290.0 3432.0 3577.0 3725.0 \n",
      "\n",
      "3876.0 4030.0 4187.0 4347.0 4510.0 4676.0 4845.0 5017.0 5192.0 5370.0 \n",
      "\n",
      "5551.0 5735.0 5922.0 6112.0 6305.0 6501.0 6700.0 6902.0 7107.0 7315.0 \n",
      "\n",
      "7526.0 7740.0 7957.0 8177.0 8400.0 8626.0 8855.0 9087.0 9322.0 9560.0 \n",
      "\n",
      "9801.0 10045.0 10292.0 10542.0 10795.0 11051.0 11310.0 11572.0 11837.0 12105.0 \n",
      "\n",
      "12376.0 12650.0 12927.0 13207.0 13490.0 13776.0 14065.0 14357.0 14652.0 "
     ]
    }
   ],
   "source": [
    "getPentagonlNumber()"
   ]
  },
  {
   "cell_type": "markdown",
   "metadata": {},
   "source": [
    "- 2 \n",
    "![](../Photo/75.png)"
   ]
  },
  {
   "cell_type": "code",
   "execution_count": 31,
   "metadata": {},
   "outputs": [],
   "source": [
    "#求一个整数各个数字的和\n",
    "def sumDigits(num):\n",
    "    a=num%10\n",
    "    b=num//10%10\n",
    "    c=num//100\n",
    "    sum_=a+b+c\n",
    "    print(sum_)"
   ]
  },
  {
   "cell_type": "code",
   "execution_count": 37,
   "metadata": {},
   "outputs": [
    {
     "name": "stdout",
     "output_type": "stream",
     "text": [
      "6\n"
     ]
    }
   ],
   "source": [
    "sumDigits(123)"
   ]
  },
  {
   "cell_type": "markdown",
   "metadata": {},
   "source": [
    "- 3\n",
    "![](../Photo/76.png)"
   ]
  },
  {
   "cell_type": "code",
   "execution_count": 48,
   "metadata": {},
   "outputs": [],
   "source": [
    "#对三个数排序\n",
    "def displaysortednumbers(num1,num2,num3):\n",
    "    if num1>num2:\n",
    "         num1,num2=num2,num1\n",
    "    if num1>num3:\n",
    "        num1,num3=num3,num1\n",
    "    if num2>num3:\n",
    "        num2,num3=num3,num2\n",
    "    print(num1,num2,num3)"
   ]
  },
  {
   "cell_type": "code",
   "execution_count": 49,
   "metadata": {},
   "outputs": [
    {
     "name": "stdout",
     "output_type": "stream",
     "text": [
      "23 67 87\n"
     ]
    }
   ],
   "source": [
    "displaysortednumbers(23,67,87)"
   ]
  },
  {
   "cell_type": "markdown",
   "metadata": {},
   "source": [
    "- 4   输入两个数，例如：输入2和3，打印出来的是2，22，222"
   ]
  },
  {
   "cell_type": "code",
   "execution_count": 87,
   "metadata": {},
   "outputs": [],
   "source": [
    "def num(num1,num2):\n",
    "    m=[]\n",
    "    sum_=0\n",
    "    for i in range(0,num2):\n",
    "        b=num1*10**i\n",
    "        sum_ += b\n",
    "        m.append(sum_)\n",
    "        d=sum(m)\n",
    "        print(d)"
   ]
  },
  {
   "cell_type": "code",
   "execution_count": 88,
   "metadata": {},
   "outputs": [
    {
     "name": "stdout",
     "output_type": "stream",
     "text": [
      "2\n",
      "24\n",
      "246\n",
      "2468\n"
     ]
    }
   ],
   "source": [
    "num(2,4)"
   ]
  },
  {
   "cell_type": "markdown",
   "metadata": {},
   "source": [
    "- 5\n",
    "![](../Photo/78.png)"
   ]
  },
  {
   "cell_type": "code",
   "execution_count": 15,
   "metadata": {},
   "outputs": [],
   "source": [
    "#显示从“1”到“Z”的字符,每行打印十个\n",
    "def printchars(ch1,ch2,numberperline):\n",
    "    count=0\n",
    "    for i in range(ch1,ch2):\n",
    "        print(chr(i),end=\" \")\n",
    "        count += 1\n",
    "        if count%numberperline==0:\n",
    "            print('\\n')"
   ]
  },
  {
   "cell_type": "code",
   "execution_count": 16,
   "metadata": {},
   "outputs": [
    {
     "name": "stdout",
     "output_type": "stream",
     "text": [
      "1 2 3 4 5 6 7 8 9 : \n",
      "\n",
      "; < = > ? @ A B C D \n",
      "\n",
      "E F G H I J K L M N \n",
      "\n",
      "O P Q R S T U V W X \n",
      "\n",
      "Y Z "
     ]
    }
   ],
   "source": [
    "printchars(49,91,10)"
   ]
  },
  {
   "cell_type": "markdown",
   "metadata": {},
   "source": [
    "- 6\n",
    "![](../Photo/79.png)"
   ]
  },
  {
   "cell_type": "code",
   "execution_count": 18,
   "metadata": {},
   "outputs": [],
   "source": [
    "#返回一年的天数\n",
    "def numberOfDaysInAYear():\n",
    "    for year in range (2010,2021):\n",
    "        if year %4 == 0 and year %100 != 0 or year % 400 == 0:\n",
    "            print(year,'有366天')\n",
    "        else:\n",
    "            print(year,'有365天')"
   ]
  },
  {
   "cell_type": "code",
   "execution_count": 19,
   "metadata": {},
   "outputs": [
    {
     "name": "stdout",
     "output_type": "stream",
     "text": [
      "2010 有365天\n",
      "2011 有365天\n",
      "2012 有366天\n",
      "2013 有365天\n",
      "2014 有365天\n",
      "2015 有365天\n",
      "2016 有366天\n",
      "2017 有365天\n",
      "2018 有365天\n",
      "2019 有365天\n",
      "2020 有366天\n"
     ]
    }
   ],
   "source": [
    "numberOfDaysInAYear()"
   ]
  },
  {
   "cell_type": "markdown",
   "metadata": {},
   "source": [
    "- 7\n",
    "![](../Photo/80.png)"
   ]
  },
  {
   "cell_type": "code",
   "execution_count": 6,
   "metadata": {},
   "outputs": [],
   "source": [
    "#显示两点间距离\n",
    "import math"
   ]
  },
  {
   "cell_type": "code",
   "execution_count": 7,
   "metadata": {},
   "outputs": [],
   "source": [
    "def distance(x1,x2,y1,y2):\n",
    "    d=math.sqrt((x2-x1)**2+(y2-y1)**2)\n",
    "    print(d)"
   ]
  },
  {
   "cell_type": "code",
   "execution_count": 8,
   "metadata": {},
   "outputs": [
    {
     "name": "stdout",
     "output_type": "stream",
     "text": [
      "5.0\n"
     ]
    }
   ],
   "source": [
    "distance(2,5,4,8)"
   ]
  },
  {
   "cell_type": "markdown",
   "metadata": {},
   "source": [
    "- 8\n",
    "![](../Photo/81.png)"
   ]
  },
  {
   "cell_type": "code",
   "execution_count": 94,
   "metadata": {},
   "outputs": [],
   "source": [
    "#梅森素数\n",
    "def meisensushu():\n",
    "    for p in range(2,32):\n",
    "        for j in range(2,p):\n",
    "            if p % j == 0:\n",
    "                break\n",
    "        else:\n",
    "            n=2**p-1\n",
    "            print(p,n)\n",
    " "
   ]
  },
  {
   "cell_type": "code",
   "execution_count": 95,
   "metadata": {},
   "outputs": [
    {
     "name": "stdout",
     "output_type": "stream",
     "text": [
      "2 3\n",
      "3 7\n",
      "5 31\n",
      "7 127\n",
      "11 2047\n",
      "13 8191\n",
      "17 131071\n",
      "19 524287\n",
      "23 8388607\n",
      "29 536870911\n",
      "31 2147483647\n"
     ]
    }
   ],
   "source": [
    "meisensushu()"
   ]
  },
  {
   "cell_type": "markdown",
   "metadata": {},
   "source": [
    "- 9\n",
    "![](../Photo/82.png)\n",
    "![](../Photo/83.png)"
   ]
  },
  {
   "cell_type": "code",
   "execution_count": 107,
   "metadata": {},
   "outputs": [],
   "source": [
    "#当前时间和日期(百度)\n",
    "import time\n",
    "def time_():\n",
    "    localtime = time.asctime(time.localtime(time.time()))#time.asctime函数接受时间元组并返回一个可读的形式\n",
    "    return localtime"
   ]
  },
  {
   "cell_type": "code",
   "execution_count": 108,
   "metadata": {},
   "outputs": [
    {
     "data": {
      "text/plain": [
       "'Sat May 11 21:47:57 2019'"
      ]
     },
     "execution_count": 108,
     "metadata": {},
     "output_type": "execute_result"
    }
   ],
   "source": [
    "time_()"
   ]
  },
  {
   "cell_type": "markdown",
   "metadata": {},
   "source": [
    "- 10\n",
    "![](../Photo/84.png)"
   ]
  },
  {
   "cell_type": "code",
   "execution_count": 64,
   "metadata": {},
   "outputs": [],
   "source": [
    "#掷骰子\n",
    "import random"
   ]
  },
  {
   "cell_type": "code",
   "execution_count": 71,
   "metadata": {},
   "outputs": [],
   "source": [
    "def shaizi():\n",
    "    i = random.randint(1,6)\n",
    "    j = random.randint(1,6)   \n",
    "    if i+j==2 or i+j==3 or i+j==12:\n",
    "        print('you rolled','%d+%d=%d'%(i,j,i+j))\n",
    "        print('you lose')\n",
    "    if i+j==7 or i+j==11:\n",
    "        print('you rolled','%d+%d=%d'%(i,j,i+j))\n",
    "        print('you win')\n",
    "    else:\n",
    "        print('you rolled','%d+%d=%d'%(i,j,i+j))\n",
    "        print('point is',i+j)\n",
    "        while 1:\n",
    "            a = random.randint(1,6)\n",
    "            b = random.randint(1,6)\n",
    "            if a+b==7:\n",
    "                print('you rolled','%d+%d=%d'%(a,b,a+b))\n",
    "                print('you lose')\n",
    "                break\n",
    "            if a+b==i+j:\n",
    "                print('you rolled','%d+%d=%d'%(a,b,a+b))\n",
    "                print('you win')\n",
    "                break"
   ]
  },
  {
   "cell_type": "code",
   "execution_count": 72,
   "metadata": {},
   "outputs": [
    {
     "name": "stdout",
     "output_type": "stream",
     "text": [
      "you rolled 3+2=5\n",
      "point is 5\n",
      "you rolled 5+2=7\n",
      "you lose\n"
     ]
    }
   ],
   "source": [
    "shaizi()"
   ]
  },
  {
   "cell_type": "markdown",
   "metadata": {},
   "source": [
    "- 11 \n",
    "### 去网上寻找如何用Python代码发送邮件 \n",
    "    - time.sleep(3)  3秒发送一次\n",
    "    - 一旦错误后，重新换一个邮箱"
   ]
  },
  {
   "cell_type": "code",
   "execution_count": null,
   "metadata": {},
   "outputs": [],
   "source": [
    "from email import encoders\n",
    "from email.header import Header\n",
    "from email.mime.text import MIMEText\n",
    "from email.utils import parseaddr, formataddr\n",
    "\n",
    "import smtplib\n",
    "    \n",
    "def _format_addr(s):\n",
    "    name, addr = parseaddr(s)\n",
    "    return formataddr((Header(name, 'utf-8').encode(), addr))\n",
    "\n",
    "from_addr = input('From: ')\n",
    "password = input('Password: ')\n",
    "to_addr = input('To: ')\n",
    "smtp_server = input('SMTP server: ')\n",
    "\n",
    "msg = MIMEText('hello, send by Python...', 'plain', 'utf-8')\n",
    "msg['From'] = _format_addr('Python爱好者 <%s>' % from_addr)\n",
    "msg['To'] = _format_addr('管理员 <%s>' % to_addr)\n",
    "msg['Subject'] = Header('来自SMTP的问候……', 'utf-8').encode()\n",
    "    \n",
    "server = smtplib.SMTP(smtp_server, 25)\n",
    "server.set_debuglevel(1)\n",
    "server.login(from_addr, password)\n",
    "server.sendmail(from_addr, [to_addr], msg.as_string())\n",
    "server.quit()"
   ]
  },
  {
   "cell_type": "code",
   "execution_count": null,
   "metadata": {},
   "outputs": [],
   "source": []
  },
  {
   "cell_type": "code",
   "execution_count": null,
   "metadata": {},
   "outputs": [],
   "source": []
  }
 ],
 "metadata": {
  "kernelspec": {
   "display_name": "Python 3",
   "language": "python",
   "name": "python3"
  },
  "language_info": {
   "codemirror_mode": {
    "name": "ipython",
    "version": 3
   },
   "file_extension": ".py",
   "mimetype": "text/x-python",
   "name": "python",
   "nbconvert_exporter": "python",
   "pygments_lexer": "ipython3",
   "version": "3.7.3"
  }
 },
 "nbformat": 4,
 "nbformat_minor": 2
}
